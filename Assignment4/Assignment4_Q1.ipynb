{
 "cells": [
  {
   "cell_type": "code",
   "execution_count": 1,
   "metadata": {
    "colab": {
     "base_uri": "https://localhost:8080/"
    },
    "id": "B2DsvvhhVeH8",
    "outputId": "cbae2e5d-c050-44bf-db68-64df269d6cd5"
   },
   "outputs": [
    {
     "name": "stdout",
     "output_type": "stream",
     "text": [
      "Looking in links: https://pytorch-geometric.com/whl/torch-1.12.1+cu116.html\n",
      "Collecting torch-scatter\n",
      "  Using cached torch_scatter-2.1.1.tar.gz (107 kB)\n",
      "  Preparing metadata (setup.py): started\n",
      "  Preparing metadata (setup.py): finished with status 'done'\n",
      "Building wheels for collected packages: torch-scatter\n",
      "  Building wheel for torch-scatter (setup.py): started\n",
      "  Building wheel for torch-scatter (setup.py): still running...\n",
      "  Building wheel for torch-scatter (setup.py): finished with status 'done'\n",
      "  Created wheel for torch-scatter: filename=torch_scatter-2.1.1-cp39-cp39-win_amd64.whl size=323748 sha256=55de95152f3b6881245e760cde3248aa9f7fe34a46eb9767300ca1856ecfbd8a\n",
      "  Stored in directory: c:\\users\\apoorv\\appdata\\local\\pip\\cache\\wheels\\dc\\41\\d4\\35e0a1f0d116b0abaab430cddc855ebb9012c0cb6bb83c9b78\n",
      "Successfully built torch-scatter\n",
      "Installing collected packages: torch-scatter\n",
      "Successfully installed torch-scatter-2.1.1\n"
     ]
    },
    {
     "name": "stderr",
     "output_type": "stream",
     "text": [
      "WARNING: Retrying (Retry(total=4, connect=None, read=None, redirect=None, status=None)) after connection broken by 'NewConnectionError('<pip._vendor.urllib3.connection.HTTPSConnection object at 0x0000027D40D567F0>: Failed to establish a new connection: [Errno 11001] getaddrinfo failed')': /whl/torch-1.12.1+cu116.html\n",
      "\n",
      "[notice] A new release of pip available: 22.3.1 -> 23.1.1\n",
      "[notice] To update, run: C:\\Users\\Apoorv\\AppData\\Local\\Microsoft\\WindowsApps\\PythonSoftwareFoundation.Python.3.9_qbz5n2kfra8p0\\python.exe -m pip install --upgrade pip\n"
     ]
    },
    {
     "name": "stdout",
     "output_type": "stream",
     "text": [
      "Looking in links: https://pytorch-geometric.com/whl/torch-1.12.1+cu116.html\n",
      "Collecting torch-sparse\n",
      "  Using cached torch_sparse-0.6.17.tar.gz (209 kB)\n",
      "  Preparing metadata (setup.py): started\n",
      "  Preparing metadata (setup.py): finished with status 'done'\n",
      "Requirement already satisfied: scipy in c:\\users\\apoorv\\appdata\\local\\packages\\pythonsoftwarefoundation.python.3.9_qbz5n2kfra8p0\\localcache\\local-packages\\python39\\site-packages (from torch-sparse) (1.10.1)\n",
      "Requirement already satisfied: numpy<1.27.0,>=1.19.5 in c:\\users\\apoorv\\appdata\\local\\packages\\pythonsoftwarefoundation.python.3.9_qbz5n2kfra8p0\\localcache\\local-packages\\python39\\site-packages (from scipy->torch-sparse) (1.22.1)\n",
      "Building wheels for collected packages: torch-sparse\n",
      "  Building wheel for torch-sparse (setup.py): started\n",
      "  Building wheel for torch-sparse (setup.py): still running...\n",
      "  Building wheel for torch-sparse (setup.py): still running...\n",
      "  Building wheel for torch-sparse (setup.py): still running...\n",
      "  Building wheel for torch-sparse (setup.py): still running...\n",
      "  Building wheel for torch-sparse (setup.py): still running...\n",
      "  Building wheel for torch-sparse (setup.py): finished with status 'done'\n",
      "  Created wheel for torch-sparse: filename=torch_sparse-0.6.17-cp39-cp39-win_amd64.whl size=678076 sha256=f0f9cdc15ab4370950265164f3f73d70fcb4316ff1dff576b5a4d484eaf5c80e\n",
      "  Stored in directory: c:\\users\\apoorv\\appdata\\local\\pip\\cache\\wheels\\7c\\42\\07\\10842f6e140aaec49cca558a99785cb30598df1f0b0f0e3120\n",
      "Successfully built torch-sparse\n",
      "Installing collected packages: torch-sparse\n",
      "Successfully installed torch-sparse-0.6.17\n"
     ]
    },
    {
     "name": "stderr",
     "output_type": "stream",
     "text": [
      "\n",
      "[notice] A new release of pip available: 22.3.1 -> 23.1.1\n",
      "[notice] To update, run: C:\\Users\\Apoorv\\AppData\\Local\\Microsoft\\WindowsApps\\PythonSoftwareFoundation.Python.3.9_qbz5n2kfra8p0\\python.exe -m pip install --upgrade pip\n"
     ]
    },
    {
     "name": "stdout",
     "output_type": "stream",
     "text": [
      "Looking in links: https://pytorch-geometric.com/whl/torch-1.12.1+cu116.html\n",
      "Collecting torch-cluster\n",
      "  Using cached torch_cluster-1.6.1.tar.gz (53 kB)\n",
      "  Preparing metadata (setup.py): started\n",
      "  Preparing metadata (setup.py): finished with status 'done'\n",
      "Requirement already satisfied: scipy in c:\\users\\apoorv\\appdata\\local\\packages\\pythonsoftwarefoundation.python.3.9_qbz5n2kfra8p0\\localcache\\local-packages\\python39\\site-packages (from torch-cluster) (1.10.1)\n",
      "Requirement already satisfied: numpy<1.27.0,>=1.19.5 in c:\\users\\apoorv\\appdata\\local\\packages\\pythonsoftwarefoundation.python.3.9_qbz5n2kfra8p0\\localcache\\local-packages\\python39\\site-packages (from scipy->torch-cluster) (1.22.1)\n",
      "Building wheels for collected packages: torch-cluster\n",
      "  Building wheel for torch-cluster (setup.py): started\n",
      "  Building wheel for torch-cluster (setup.py): still running...\n",
      "  Building wheel for torch-cluster (setup.py): still running...\n",
      "  Building wheel for torch-cluster (setup.py): still running...\n",
      "  Building wheel for torch-cluster (setup.py): finished with status 'done'\n",
      "  Created wheel for torch-cluster: filename=torch_cluster-1.6.1-cp39-cp39-win_amd64.whl size=471301 sha256=553c2e3489d2a22cd912612093ca35206165635c4c078e09949a9773548fafa0\n",
      "  Stored in directory: c:\\users\\apoorv\\appdata\\local\\pip\\cache\\wheels\\f3\\7c\\1c\\e84b723c8450fd83b597bc033c0a985bf9223bc7650bbf27c8\n",
      "Successfully built torch-cluster\n",
      "Installing collected packages: torch-cluster\n",
      "Successfully installed torch-cluster-1.6.1\n"
     ]
    },
    {
     "name": "stderr",
     "output_type": "stream",
     "text": [
      "\n",
      "[notice] A new release of pip available: 22.3.1 -> 23.1.1\n",
      "[notice] To update, run: C:\\Users\\Apoorv\\AppData\\Local\\Microsoft\\WindowsApps\\PythonSoftwareFoundation.Python.3.9_qbz5n2kfra8p0\\python.exe -m pip install --upgrade pip\n"
     ]
    },
    {
     "name": "stdout",
     "output_type": "stream",
     "text": [
      "Looking in links: https://pytorch-geometric.com/whl/torch-1.12.1+cu116.html\n",
      "Collecting torch-spline-conv\n",
      "  Using cached torch_spline_conv-1.2.2.tar.gz (25 kB)\n",
      "  Preparing metadata (setup.py): started\n",
      "  Preparing metadata (setup.py): finished with status 'done'\n",
      "Building wheels for collected packages: torch-spline-conv\n",
      "  Building wheel for torch-spline-conv (setup.py): started\n",
      "  Building wheel for torch-spline-conv (setup.py): still running...\n",
      "  Building wheel for torch-spline-conv (setup.py): finished with status 'done'\n",
      "  Created wheel for torch-spline-conv: filename=torch_spline_conv-1.2.2-cp39-cp39-win_amd64.whl size=165672 sha256=156bdfdb77f744060856bb35543eb27da8f09a7762a333d6c5d4fb8cc3745727\n",
      "  Stored in directory: c:\\users\\apoorv\\appdata\\local\\pip\\cache\\wheels\\60\\1b\\74\\c644ea68bfbfbefb774891d3897b6cf74ac4b297e3a7098b6c\n",
      "Successfully built torch-spline-conv\n",
      "Installing collected packages: torch-spline-conv\n",
      "Successfully installed torch-spline-conv-1.2.2\n"
     ]
    },
    {
     "name": "stderr",
     "output_type": "stream",
     "text": [
      "WARNING: Retrying (Retry(total=4, connect=None, read=None, redirect=None, status=None)) after connection broken by 'NewConnectionError('<pip._vendor.urllib3.connection.HTTPSConnection object at 0x000001B827497B50>: Failed to establish a new connection: [Errno 11001] getaddrinfo failed')': /whl/torch-1.12.1+cu116.html\n",
      "WARNING: Retrying (Retry(total=3, connect=None, read=None, redirect=None, status=None)) after connection broken by 'NewConnectionError('<pip._vendor.urllib3.connection.HTTPSConnection object at 0x000001B827497E80>: Failed to establish a new connection: [Errno 11001] getaddrinfo failed')': /whl/torch-1.12.1+cu116.html\n",
      "WARNING: Retrying (Retry(total=2, connect=None, read=None, redirect=None, status=None)) after connection broken by 'NewConnectionError('<pip._vendor.urllib3.connection.HTTPSConnection object at 0x000001B827497F40>: Failed to establish a new connection: [Errno 11001] getaddrinfo failed')': /whl/torch-1.12.1+cu116.html\n",
      "\n",
      "[notice] A new release of pip available: 22.3.1 -> 23.1.1\n",
      "[notice] To update, run: C:\\Users\\Apoorv\\AppData\\Local\\Microsoft\\WindowsApps\\PythonSoftwareFoundation.Python.3.9_qbz5n2kfra8p0\\python.exe -m pip install --upgrade pip\n"
     ]
    },
    {
     "name": "stdout",
     "output_type": "stream",
     "text": [
      "Collecting torch-geometric\n",
      "  Downloading torch_geometric-2.3.1.tar.gz (661 kB)\n",
      "     -------------------------------------- 661.6/661.6 kB 6.9 MB/s eta 0:00:00\n",
      "  Installing build dependencies: started\n",
      "  Installing build dependencies: finished with status 'done'\n",
      "  Getting requirements to build wheel: started\n",
      "  Getting requirements to build wheel: finished with status 'done'\n",
      "  Preparing metadata (pyproject.toml): started\n",
      "  Preparing metadata (pyproject.toml): finished with status 'done'\n",
      "Requirement already satisfied: pyparsing in c:\\users\\apoorv\\appdata\\local\\packages\\pythonsoftwarefoundation.python.3.9_qbz5n2kfra8p0\\localcache\\local-packages\\python39\\site-packages (from torch-geometric) (3.0.7)\n",
      "Requirement already satisfied: requests in c:\\users\\apoorv\\appdata\\local\\packages\\pythonsoftwarefoundation.python.3.9_qbz5n2kfra8p0\\localcache\\local-packages\\python39\\site-packages (from torch-geometric) (2.27.1)\n",
      "Requirement already satisfied: scipy in c:\\users\\apoorv\\appdata\\local\\packages\\pythonsoftwarefoundation.python.3.9_qbz5n2kfra8p0\\localcache\\local-packages\\python39\\site-packages (from torch-geometric) (1.10.1)\n",
      "Requirement already satisfied: numpy in c:\\users\\apoorv\\appdata\\local\\packages\\pythonsoftwarefoundation.python.3.9_qbz5n2kfra8p0\\localcache\\local-packages\\python39\\site-packages (from torch-geometric) (1.22.1)\n",
      "Requirement already satisfied: scikit-learn in c:\\users\\apoorv\\appdata\\local\\packages\\pythonsoftwarefoundation.python.3.9_qbz5n2kfra8p0\\localcache\\local-packages\\python39\\site-packages (from torch-geometric) (1.0.2)\n",
      "Requirement already satisfied: psutil>=5.8.0 in c:\\users\\apoorv\\appdata\\local\\packages\\pythonsoftwarefoundation.python.3.9_qbz5n2kfra8p0\\localcache\\local-packages\\python39\\site-packages (from torch-geometric) (5.9.4)\n",
      "Requirement already satisfied: jinja2 in c:\\users\\apoorv\\appdata\\local\\packages\\pythonsoftwarefoundation.python.3.9_qbz5n2kfra8p0\\localcache\\local-packages\\python39\\site-packages (from torch-geometric) (3.0.3)\n",
      "Requirement already satisfied: tqdm in c:\\users\\apoorv\\appdata\\local\\packages\\pythonsoftwarefoundation.python.3.9_qbz5n2kfra8p0\\localcache\\local-packages\\python39\\site-packages (from torch-geometric) (4.64.1)\n",
      "Requirement already satisfied: MarkupSafe>=2.0 in c:\\users\\apoorv\\appdata\\local\\packages\\pythonsoftwarefoundation.python.3.9_qbz5n2kfra8p0\\localcache\\local-packages\\python39\\site-packages (from jinja2->torch-geometric) (2.0.1)\n",
      "Requirement already satisfied: urllib3<1.27,>=1.21.1 in c:\\users\\apoorv\\appdata\\local\\packages\\pythonsoftwarefoundation.python.3.9_qbz5n2kfra8p0\\localcache\\local-packages\\python39\\site-packages (from requests->torch-geometric) (1.26.13)\n",
      "Requirement already satisfied: charset-normalizer~=2.0.0 in c:\\users\\apoorv\\appdata\\local\\packages\\pythonsoftwarefoundation.python.3.9_qbz5n2kfra8p0\\localcache\\local-packages\\python39\\site-packages (from requests->torch-geometric) (2.0.10)\n",
      "Requirement already satisfied: certifi>=2017.4.17 in c:\\users\\apoorv\\appdata\\local\\packages\\pythonsoftwarefoundation.python.3.9_qbz5n2kfra8p0\\localcache\\local-packages\\python39\\site-packages (from requests->torch-geometric) (2021.10.8)\n",
      "Requirement already satisfied: idna<4,>=2.5 in c:\\users\\apoorv\\appdata\\local\\packages\\pythonsoftwarefoundation.python.3.9_qbz5n2kfra8p0\\localcache\\local-packages\\python39\\site-packages (from requests->torch-geometric) (3.3)\n",
      "Requirement already satisfied: threadpoolctl>=2.0.0 in c:\\users\\apoorv\\appdata\\local\\packages\\pythonsoftwarefoundation.python.3.9_qbz5n2kfra8p0\\localcache\\local-packages\\python39\\site-packages (from scikit-learn->torch-geometric) (3.0.0)\n",
      "Requirement already satisfied: joblib>=0.11 in c:\\users\\apoorv\\appdata\\local\\packages\\pythonsoftwarefoundation.python.3.9_qbz5n2kfra8p0\\localcache\\local-packages\\python39\\site-packages (from scikit-learn->torch-geometric) (1.1.0)\n",
      "Requirement already satisfied: colorama in c:\\users\\apoorv\\appdata\\local\\packages\\pythonsoftwarefoundation.python.3.9_qbz5n2kfra8p0\\localcache\\local-packages\\python39\\site-packages (from tqdm->torch-geometric) (0.4.6)\n",
      "Building wheels for collected packages: torch-geometric\n",
      "  Building wheel for torch-geometric (pyproject.toml): started\n",
      "  Building wheel for torch-geometric (pyproject.toml): finished with status 'done'\n",
      "  Created wheel for torch-geometric: filename=torch_geometric-2.3.1-py3-none-any.whl size=910500 sha256=756a331874b9b59c4db769dd020ddebeaf6affac00bf1294cd6c9547468f8986\n",
      "  Stored in directory: c:\\users\\apoorv\\appdata\\local\\pip\\cache\\wheels\\92\\53\\6f\\2b8d654789b342509d9db30d1b420b7978da49b447a5662b05\n",
      "Successfully built torch-geometric\n",
      "Installing collected packages: torch-geometric\n",
      "Successfully installed torch-geometric-2.3.1\n"
     ]
    },
    {
     "name": "stderr",
     "output_type": "stream",
     "text": [
      "\n",
      "[notice] A new release of pip available: 22.3.1 -> 23.1.1\n",
      "[notice] To update, run: C:\\Users\\Apoorv\\AppData\\Local\\Microsoft\\WindowsApps\\PythonSoftwareFoundation.Python.3.9_qbz5n2kfra8p0\\python.exe -m pip install --upgrade pip\n"
     ]
    }
   ],
   "source": [
    "import torch\n",
    "\n",
    "def format_pytorch_version(version):\n",
    "  return version.split('+')[0]\n",
    "\n",
    "TORCH_version = torch.__version__\n",
    "TORCH = format_pytorch_version(TORCH_version)\n",
    "\n",
    "def format_cuda_version(version):\n",
    "  return 'cu' + version.replace('.', '')\n",
    "\n",
    "CUDA_version = torch.version.cuda\n",
    "CUDA = format_cuda_version(CUDA_version)\n",
    "\n",
    "!pip install torch-scatter     -f https://pytorch-geometric.com/whl/torch-{TORCH}+{CUDA}.html\n",
    "!pip install torch-sparse      -f https://pytorch-geometric.com/whl/torch-{TORCH}+{CUDA}.html\n",
    "!pip install torch-cluster     -f https://pytorch-geometric.com/whl/torch-{TORCH}+{CUDA}.html\n",
    "!pip install torch-spline-conv -f https://pytorch-geometric.com/whl/torch-{TORCH}+{CUDA}.html\n",
    "!pip install torch-geometric "
   ]
  },
  {
   "cell_type": "code",
   "execution_count": 2,
   "metadata": {
    "colab": {
     "base_uri": "https://localhost:8080/"
    },
    "id": "bDBqb0B_ViyG",
    "outputId": "4150c310-5a5c-4746-bead-8e963d2c600e"
   },
   "outputs": [
    {
     "name": "stderr",
     "output_type": "stream",
     "text": [
      "Downloading https://github.com/kimiyoung/planetoid/raw/master/data/ind.cora.x\n",
      "Downloading https://github.com/kimiyoung/planetoid/raw/master/data/ind.cora.tx\n",
      "Downloading https://github.com/kimiyoung/planetoid/raw/master/data/ind.cora.allx\n",
      "Downloading https://github.com/kimiyoung/planetoid/raw/master/data/ind.cora.y\n",
      "Downloading https://github.com/kimiyoung/planetoid/raw/master/data/ind.cora.ty\n",
      "Downloading https://github.com/kimiyoung/planetoid/raw/master/data/ind.cora.ally\n",
      "Downloading https://github.com/kimiyoung/planetoid/raw/master/data/ind.cora.graph\n",
      "Downloading https://github.com/kimiyoung/planetoid/raw/master/data/ind.cora.test.index\n",
      "Processing...\n",
      "Done!\n"
     ]
    }
   ],
   "source": [
    "from torch_geometric.datasets import Planetoid\n",
    "from torch_geometric.transforms import NormalizeFeatures\n",
    "\n",
    "dataset = Planetoid(root='data/Planetoid', name='Cora', transform=NormalizeFeatures())"
   ]
  },
  {
   "cell_type": "code",
   "execution_count": 3,
   "metadata": {
    "id": "ONG_kUdqXvNg"
   },
   "outputs": [],
   "source": [
    "import torch\n",
    "import torch.nn as nn\n",
    "import torch.nn.functional as F"
   ]
  },
  {
   "cell_type": "code",
   "execution_count": 4,
   "metadata": {
    "colab": {
     "base_uri": "https://localhost:8080/"
    },
    "id": "xnBrHGQXV5-P",
    "outputId": "88fae1ac-ba58-4485-ab91-f9209a5916d9"
   },
   "outputs": [
    {
     "name": "stdout",
     "output_type": "stream",
     "text": [
      "Number of graphs: 1\n",
      "Number of features: 1433\n",
      "Number of classes: 7\n",
      "==================================================\n",
      "Data(x=[2708, 1433], edge_index=[2, 10556], y=[2708], train_mask=[2708], val_mask=[2708], test_mask=[2708])\n",
      "Number of nodes: 2708\n",
      "Number of edges: 10556\n",
      "Number of training nodes: 140\n",
      "Training node label rate: 0.05\n",
      "Is undirected: True\n"
     ]
    }
   ],
   "source": [
    "# Get some basic info about the dataset\n",
    "print(f'Number of graphs: {len(dataset)}')\n",
    "print(f'Number of features: {dataset.num_features}')\n",
    "print(f'Number of classes: {dataset.num_classes}')\n",
    "print(50*'=')\n",
    "\n",
    "# There is only one graph in the dataset, use it as new data object\n",
    "data = dataset[0]  \n",
    "\n",
    "# Gather some statistics about the graph.\n",
    "print(data)\n",
    "print(f'Number of nodes: {data.num_nodes}')\n",
    "print(f'Number of edges: {data.num_edges}')\n",
    "print(f'Number of training nodes: {data.train_mask.sum()}')\n",
    "print(f'Training node label rate: {int(data.train_mask.sum()) / data.num_nodes:.2f}')\n",
    "print(f'Is undirected: {data.is_undirected()}')"
   ]
  },
  {
   "cell_type": "code",
   "execution_count": 5,
   "metadata": {
    "id": "YXYh9H-lXgJ8"
   },
   "outputs": [],
   "source": [
    "class NN(torch.nn.Module):\n",
    "    def __init__(self, hidden_channels,num_features):\n",
    "        super(NN, self).__init__()\n",
    "        torch.manual_seed(42)\n",
    "\n",
    "        # Initialize the layers\n",
    "        self.fc1 = nn.Linear(num_features, hidden_channels)\n",
    "        self.fc2 = nn.Linear(hidden_channels, hidden_channels)\n",
    "        self.out = nn.Linear(hidden_channels, dataset.num_classes)\n",
    "\n",
    "    def forward(self, x):\n",
    "        # First Message Passing Layer (Transformation)\n",
    "        x = self.fc1(x)\n",
    "        x = x.relu()\n",
    "        x = F.dropout(x, p=0.5, training=self.training)\n",
    "\n",
    "        # Second Message Passing Layer\n",
    "        x = self.fc2(x)\n",
    "        x = x.relu()\n",
    "        x = F.dropout(x, p=0.5, training=self.training)\n",
    "\n",
    "        # Output layer \n",
    "        x = F.softmax(self.out(x), dim=1)\n",
    "        return x"
   ]
  },
  {
   "cell_type": "code",
   "execution_count": 6,
   "metadata": {
    "colab": {
     "base_uri": "https://localhost:8080/"
    },
    "id": "W6rwWUWHXuJQ",
    "outputId": "29c29a3f-d1a7-4de4-fb7a-21de6883899c"
   },
   "outputs": [
    {
     "name": "stdout",
     "output_type": "stream",
     "text": [
      "Epoch: 000, Loss: 1.9468,Accuracy: 0.0640\n",
      "Epoch: 100, Loss: 1.9445,Accuracy: 0.0650\n",
      "Epoch: 200, Loss: 1.8139,Accuracy: 0.2080\n",
      "Epoch: 300, Loss: 1.5567,Accuracy: 0.3390\n",
      "Epoch: 400, Loss: 1.4033,Accuracy: 0.3620\n",
      "Epoch: 500, Loss: 1.2991,Accuracy: 0.4140\n",
      "Epoch: 600, Loss: 1.2540,Accuracy: 0.4550\n",
      "Epoch: 700, Loss: 1.2396,Accuracy: 0.4940\n",
      "Epoch: 800, Loss: 1.2327,Accuracy: 0.5070\n",
      "Epoch: 900, Loss: 1.2297,Accuracy: 0.5230\n",
      "Epoch: 1000, Loss: 1.2161,Accuracy: 0.5250\n",
      "Epoch: 1100, Loss: 1.2232,Accuracy: 0.5270\n",
      "Epoch: 1200, Loss: 1.2135,Accuracy: 0.5250\n",
      "Epoch: 1300, Loss: 1.2069,Accuracy: 0.5190\n",
      "Epoch: 1400, Loss: 1.2061,Accuracy: 0.5210\n",
      "Epoch: 1500, Loss: 1.2010,Accuracy: 0.5190\n",
      "Epoch: 1600, Loss: 1.2147,Accuracy: 0.5170\n",
      "Epoch: 1700, Loss: 1.2103,Accuracy: 0.5130\n",
      "Epoch: 1800, Loss: 1.2137,Accuracy: 0.5190\n",
      "Epoch: 1900, Loss: 1.2268,Accuracy: 0.5220\n",
      "Epoch: 2000, Loss: 1.1968,Accuracy: 0.5200\n",
      "Epoch: 2100, Loss: 1.2131,Accuracy: 0.5140\n",
      "Epoch: 2200, Loss: 1.2004,Accuracy: 0.5120\n",
      "Epoch: 2300, Loss: 1.2017,Accuracy: 0.5220\n",
      "Epoch: 2400, Loss: 1.2029,Accuracy: 0.5110\n",
      "Epoch: 2500, Loss: 1.2163,Accuracy: 0.5130\n",
      "Epoch: 2600, Loss: 1.2090,Accuracy: 0.5050\n",
      "Epoch: 2700, Loss: 1.2099,Accuracy: 0.5140\n",
      "Epoch: 2800, Loss: 1.2006,Accuracy: 0.5080\n",
      "Epoch: 2900, Loss: 1.2049,Accuracy: 0.5050\n",
      "Epoch: 3000, Loss: 1.1972,Accuracy: 0.5060\n",
      "Epoch: 3100, Loss: 1.2031,Accuracy: 0.5070\n",
      "Epoch: 3200, Loss: 1.2007,Accuracy: 0.5120\n",
      "Epoch: 3300, Loss: 1.2044,Accuracy: 0.5090\n",
      "Epoch: 3400, Loss: 1.1979,Accuracy: 0.5110\n",
      "Epoch: 3500, Loss: 1.2097,Accuracy: 0.5160\n",
      "Epoch: 3600, Loss: 1.1935,Accuracy: 0.5050\n",
      "Epoch: 3700, Loss: 1.2123,Accuracy: 0.5070\n",
      "Epoch: 3800, Loss: 1.1930,Accuracy: 0.5120\n",
      "Epoch: 3900, Loss: 1.1986,Accuracy: 0.5090\n",
      "Epoch: 4000, Loss: 1.2047,Accuracy: 0.5150\n",
      "Epoch: 4100, Loss: 1.2226,Accuracy: 0.5120\n",
      "Epoch: 4200, Loss: 1.2044,Accuracy: 0.5080\n",
      "Epoch: 4300, Loss: 1.2104,Accuracy: 0.5100\n",
      "Epoch: 4400, Loss: 1.1979,Accuracy: 0.5070\n",
      "Epoch: 4500, Loss: 1.1845,Accuracy: 0.5150\n",
      "Epoch: 4600, Loss: 1.1970,Accuracy: 0.5180\n",
      "Epoch: 4700, Loss: 1.1996,Accuracy: 0.5090\n",
      "Epoch: 4800, Loss: 1.1910,Accuracy: 0.5090\n",
      "Epoch: 4900, Loss: 1.2058,Accuracy: 0.5130\n",
      "Epoch: 5000, Loss: 1.2004,Accuracy: 0.5100\n"
     ]
    }
   ],
   "source": [
    "# Initialize model\n",
    "model = NN(hidden_channels=64,num_features=data.num_features)\n",
    "\n",
    "# Use GPU\n",
    "device = torch.device(\"cuda:0\" if torch.cuda.is_available() else \"cpu\")\n",
    "model = model.to(device)\n",
    "data = data.to(device)\n",
    "\n",
    "# Initialize Optimizer\n",
    "learning_rate = 0.001\n",
    "decay = 5e-4\n",
    "optimizer = torch.optim.Adam(model.parameters(), \n",
    "                             lr=learning_rate, \n",
    "                             weight_decay=decay)\n",
    "# Define loss function (CrossEntropyLoss for Classification Problems with \n",
    "# probability distributions)\n",
    "criterion = torch.nn.CrossEntropyLoss()\n",
    "\n",
    "def train():\n",
    "      model.train()\n",
    "      optimizer.zero_grad() \n",
    "      out = model(data.x)  \n",
    "      # Only use nodes with labels available for loss calculation --> mask\n",
    "      loss = criterion(out[data.train_mask], data.y[data.train_mask])  \n",
    "      loss.backward() \n",
    "      optimizer.step()\n",
    "      return loss\n",
    "\n",
    "def test():\n",
    "      model.eval()\n",
    "      out = model(data.x)\n",
    "      # Use the class with highest probability.\n",
    "      pred = out.argmax(dim=1)  \n",
    "      # Check against ground-truth labels.\n",
    "      test_correct = pred[data.test_mask] == data.y[data.test_mask]  \n",
    "      # Derive ratio of correct predictions.\n",
    "      test_acc = int(test_correct.sum()) / int(data.test_mask.sum())  \n",
    "      return test_acc\n",
    "\n",
    "losses = []\n",
    "for epoch in range(0, 5001):\n",
    "    loss = train()\n",
    "    losses.append(loss)\n",
    "    acc=test()\n",
    "    if epoch % 100 == 0:\n",
    "      print(f'Epoch: {epoch:03d}, Loss: {loss:.4f},Accuracy: {acc:.4f}')"
   ]
  },
  {
   "cell_type": "markdown",
   "metadata": {
    "id": "WL1nmT-sY2xu"
   },
   "source": [
    "GCN with features"
   ]
  },
  {
   "cell_type": "code",
   "execution_count": 7,
   "metadata": {
    "id": "6Pml2WCJV6Ae"
   },
   "outputs": [],
   "source": [
    "import torch\n",
    "from torch.nn import Linear\n",
    "import torch.nn.functional as F\n",
    "from torch_geometric.nn import GCNConv #GATConv\n",
    "\n",
    "class GCN(torch.nn.Module):\n",
    "    def __init__(self, hidden_channels,num_features):\n",
    "        super(GCN, self).__init__()\n",
    "        torch.manual_seed(42)\n",
    "\n",
    "        # Initialize the layers\n",
    "        self.conv1 = GCNConv(num_features, hidden_channels)\n",
    "        self.conv2 = GCNConv(hidden_channels, hidden_channels)\n",
    "        self.out = Linear(hidden_channels, dataset.num_classes)\n",
    "\n",
    "    def forward(self, x, edge_index):\n",
    "        # First Message Passing Layer (Transformation)\n",
    "        x = self.conv1(x, edge_index)\n",
    "        x = x.relu()\n",
    "        x = F.dropout(x, p=0.5, training=self.training)\n",
    "\n",
    "        # Second Message Passing Layer\n",
    "        x = self.conv2(x, edge_index)\n",
    "        x = x.relu()\n",
    "        x = F.dropout(x, p=0.5, training=self.training)\n",
    "\n",
    "        # Output layer \n",
    "        x = F.softmax(self.out(x), dim=1)\n",
    "        return x\n"
   ]
  },
  {
   "cell_type": "code",
   "execution_count": 8,
   "metadata": {
    "colab": {
     "base_uri": "https://localhost:8080/"
    },
    "id": "UfvcAOuuV6C3",
    "outputId": "faa403f1-5bc0-4b1c-f361-077e1cef3dd0"
   },
   "outputs": [
    {
     "name": "stdout",
     "output_type": "stream",
     "text": [
      "Epoch: 000, Loss: 1.9460,Accuracy: 0.1490\n",
      "Epoch: 100, Loss: 1.7192,Accuracy: 0.3970\n",
      "Epoch: 200, Loss: 1.4344,Accuracy: 0.6340\n",
      "Epoch: 300, Loss: 1.3076,Accuracy: 0.6890\n",
      "Epoch: 400, Loss: 1.2586,Accuracy: 0.7440\n",
      "Epoch: 500, Loss: 1.2838,Accuracy: 0.7450\n",
      "Epoch: 600, Loss: 1.2609,Accuracy: 0.7570\n",
      "Epoch: 700, Loss: 1.2504,Accuracy: 0.7520\n",
      "Epoch: 800, Loss: 1.2450,Accuracy: 0.7560\n",
      "Epoch: 900, Loss: 1.2720,Accuracy: 0.7500\n",
      "Epoch: 1000, Loss: 1.2544,Accuracy: 0.7560\n",
      "Epoch: 1100, Loss: 1.2581,Accuracy: 0.7460\n",
      "Epoch: 1200, Loss: 1.2734,Accuracy: 0.7570\n",
      "Epoch: 1300, Loss: 1.2621,Accuracy: 0.7580\n",
      "Epoch: 1400, Loss: 1.2507,Accuracy: 0.7520\n",
      "Epoch: 1500, Loss: 1.2400,Accuracy: 0.7460\n",
      "Epoch: 1600, Loss: 1.2464,Accuracy: 0.7500\n",
      "Epoch: 1700, Loss: 1.2505,Accuracy: 0.7360\n",
      "Epoch: 1800, Loss: 1.2552,Accuracy: 0.7420\n",
      "Epoch: 1900, Loss: 1.2437,Accuracy: 0.7570\n",
      "Epoch: 2000, Loss: 1.2689,Accuracy: 0.7340\n",
      "Epoch: 2100, Loss: 1.2549,Accuracy: 0.7270\n",
      "Epoch: 2200, Loss: 1.2422,Accuracy: 0.7520\n",
      "Epoch: 2300, Loss: 1.2638,Accuracy: 0.7570\n",
      "Epoch: 2400, Loss: 1.2521,Accuracy: 0.7390\n",
      "Epoch: 2500, Loss: 1.2467,Accuracy: 0.7450\n",
      "Epoch: 2600, Loss: 1.2352,Accuracy: 0.7400\n",
      "Epoch: 2700, Loss: 1.2249,Accuracy: 0.7410\n",
      "Epoch: 2800, Loss: 1.2371,Accuracy: 0.7300\n",
      "Epoch: 2900, Loss: 1.2383,Accuracy: 0.7460\n",
      "Epoch: 3000, Loss: 1.2317,Accuracy: 0.7300\n",
      "Epoch: 3100, Loss: 1.2405,Accuracy: 0.7400\n",
      "Epoch: 3200, Loss: 1.2600,Accuracy: 0.7440\n",
      "Epoch: 3300, Loss: 1.2482,Accuracy: 0.7440\n",
      "Epoch: 3400, Loss: 1.2435,Accuracy: 0.7230\n",
      "Epoch: 3500, Loss: 1.2428,Accuracy: 0.7390\n",
      "Epoch: 3600, Loss: 1.2312,Accuracy: 0.7500\n",
      "Epoch: 3700, Loss: 1.2356,Accuracy: 0.7370\n",
      "Epoch: 3800, Loss: 1.2294,Accuracy: 0.7460\n",
      "Epoch: 3900, Loss: 1.2259,Accuracy: 0.7270\n",
      "Epoch: 4000, Loss: 1.2389,Accuracy: 0.7500\n",
      "Epoch: 4100, Loss: 1.2531,Accuracy: 0.7310\n",
      "Epoch: 4200, Loss: 1.2423,Accuracy: 0.7460\n",
      "Epoch: 4300, Loss: 1.2675,Accuracy: 0.7420\n",
      "Epoch: 4400, Loss: 1.2337,Accuracy: 0.7240\n",
      "Epoch: 4500, Loss: 1.2373,Accuracy: 0.7400\n",
      "Epoch: 4600, Loss: 1.2391,Accuracy: 0.7290\n",
      "Epoch: 4700, Loss: 1.2334,Accuracy: 0.7380\n",
      "Epoch: 4800, Loss: 1.2292,Accuracy: 0.7440\n",
      "Epoch: 4900, Loss: 1.2377,Accuracy: 0.7230\n",
      "Epoch: 5000, Loss: 1.2470,Accuracy: 0.7410\n"
     ]
    }
   ],
   "source": [
    "# Initialize model\n",
    "model = GCN(hidden_channels=32,num_features=data.num_features)\n",
    "\n",
    "# Use GPU\n",
    "device = torch.device(\"cuda:0\" if torch.cuda.is_available() else \"cpu\")\n",
    "model = model.to(device)\n",
    "data = data.to(device)\n",
    "\n",
    "# Initialize Optimizer\n",
    "learning_rate = 0.01\n",
    "decay = 5e-4\n",
    "optimizer = torch.optim.Adam(model.parameters(), \n",
    "                             lr=learning_rate, \n",
    "                             weight_decay=decay)\n",
    "# Define loss function (CrossEntropyLoss for Classification Problems with \n",
    "# probability distributions)\n",
    "criterion = torch.nn.CrossEntropyLoss()\n",
    "\n",
    "def train():\n",
    "      model.train()\n",
    "      optimizer.zero_grad() \n",
    "      # Use all data as input, because all nodes have node features\n",
    "      out = model(data.x, data.edge_index)  \n",
    "      # Only use nodes with labels available for loss calculation --> mask\n",
    "      loss = criterion(out[data.train_mask], data.y[data.train_mask])  \n",
    "      loss.backward() \n",
    "      optimizer.step()\n",
    "      return loss\n",
    "\n",
    "def test():\n",
    "      model.eval()\n",
    "      out = model(data.x, data.edge_index)\n",
    "      # Use the class with highest probability.\n",
    "      pred = out.argmax(dim=1)  \n",
    "      # Check against ground-truth labels.\n",
    "      test_correct = pred[data.test_mask] == data.y[data.test_mask]  \n",
    "      # Derive ratio of correct predictions.\n",
    "      test_acc = int(test_correct.sum()) / int(data.test_mask.sum())  \n",
    "      return test_acc\n",
    "\n",
    "losses = []\n",
    "for epoch in range(0, 5001):\n",
    "    loss = train()\n",
    "    losses.append(loss)\n",
    "    acc=test()\n",
    "    if epoch % 100 == 0:\n",
    "      print(f'Epoch: {epoch:03d}, Loss: {loss:.4f},Accuracy: {acc:.4f}')"
   ]
  },
  {
   "cell_type": "markdown",
   "metadata": {
    "id": "PXYJmySIY8XC"
   },
   "source": [
    "GCN with Identity\n"
   ]
  },
  {
   "cell_type": "code",
   "execution_count": 9,
   "metadata": {
    "id": "8LusVgzpV6Fc"
   },
   "outputs": [],
   "source": [
    "#CREATING A NXN MATRIX\n",
    "import numpy as np\n",
    "d=torch.tensor(np.identity(data.num_nodes, dtype = float))"
   ]
  },
  {
   "cell_type": "code",
   "execution_count": 10,
   "metadata": {
    "colab": {
     "base_uri": "https://localhost:8080/"
    },
    "id": "ESqwXwgHV7_w",
    "outputId": "6490e743-b1e1-4ecc-a6ed-706102825293"
   },
   "outputs": [
    {
     "name": "stdout",
     "output_type": "stream",
     "text": [
      "Epoch: 000, Loss: 1.9460,Accuracy: 0.1030\n",
      "Epoch: 100, Loss: 1.2622,Accuracy: 0.4880\n",
      "Epoch: 200, Loss: 1.2262,Accuracy: 0.5910\n",
      "Epoch: 300, Loss: 1.2264,Accuracy: 0.6500\n",
      "Epoch: 400, Loss: 1.2212,Accuracy: 0.6430\n",
      "Epoch: 500, Loss: 1.1991,Accuracy: 0.6170\n",
      "Epoch: 600, Loss: 1.2080,Accuracy: 0.6430\n",
      "Epoch: 700, Loss: 1.2120,Accuracy: 0.6390\n",
      "Epoch: 800, Loss: 1.1947,Accuracy: 0.6030\n",
      "Epoch: 900, Loss: 1.2240,Accuracy: 0.6070\n",
      "Epoch: 1000, Loss: 1.1979,Accuracy: 0.5500\n",
      "Epoch: 1100, Loss: 1.2070,Accuracy: 0.5890\n",
      "Epoch: 1200, Loss: 1.2113,Accuracy: 0.5970\n",
      "Epoch: 1300, Loss: 1.2150,Accuracy: 0.6390\n",
      "Epoch: 1400, Loss: 1.2243,Accuracy: 0.6470\n",
      "Epoch: 1500, Loss: 1.2016,Accuracy: 0.6300\n",
      "Epoch: 1600, Loss: 1.1958,Accuracy: 0.6260\n",
      "Epoch: 1700, Loss: 1.2126,Accuracy: 0.5860\n",
      "Epoch: 1800, Loss: 1.2135,Accuracy: 0.6110\n",
      "Epoch: 1900, Loss: 1.2051,Accuracy: 0.6520\n",
      "Epoch: 2000, Loss: 1.2055,Accuracy: 0.6580\n",
      "Epoch: 2100, Loss: 1.2151,Accuracy: 0.5530\n",
      "Epoch: 2200, Loss: 1.2034,Accuracy: 0.5860\n",
      "Epoch: 2300, Loss: 1.2086,Accuracy: 0.6430\n",
      "Epoch: 2400, Loss: 1.2001,Accuracy: 0.6220\n",
      "Epoch: 2500, Loss: 1.1946,Accuracy: 0.6010\n",
      "Epoch: 2600, Loss: 1.1971,Accuracy: 0.6160\n",
      "Epoch: 2700, Loss: 1.2053,Accuracy: 0.6020\n",
      "Epoch: 2800, Loss: 1.2036,Accuracy: 0.5710\n",
      "Epoch: 2900, Loss: 1.2154,Accuracy: 0.6570\n",
      "Epoch: 3000, Loss: 1.1972,Accuracy: 0.6470\n",
      "Epoch: 3100, Loss: 1.1987,Accuracy: 0.6130\n",
      "Epoch: 3200, Loss: 1.1933,Accuracy: 0.6490\n",
      "Epoch: 3300, Loss: 1.1915,Accuracy: 0.6420\n",
      "Epoch: 3400, Loss: 1.1961,Accuracy: 0.5700\n",
      "Epoch: 3500, Loss: 1.1965,Accuracy: 0.6480\n",
      "Epoch: 3600, Loss: 1.2145,Accuracy: 0.6580\n",
      "Epoch: 3700, Loss: 1.2096,Accuracy: 0.6440\n",
      "Epoch: 3800, Loss: 1.2038,Accuracy: 0.5980\n",
      "Epoch: 3900, Loss: 1.2003,Accuracy: 0.5820\n",
      "Epoch: 4000, Loss: 1.2095,Accuracy: 0.6160\n",
      "Epoch: 4100, Loss: 1.2062,Accuracy: 0.6790\n",
      "Epoch: 4200, Loss: 1.2128,Accuracy: 0.5630\n",
      "Epoch: 4300, Loss: 1.1961,Accuracy: 0.6030\n",
      "Epoch: 4400, Loss: 1.1953,Accuracy: 0.5680\n",
      "Epoch: 4500, Loss: 1.2099,Accuracy: 0.6500\n",
      "Epoch: 4600, Loss: 1.2010,Accuracy: 0.6520\n",
      "Epoch: 4700, Loss: 1.2153,Accuracy: 0.6210\n",
      "Epoch: 4800, Loss: 1.1991,Accuracy: 0.5800\n",
      "Epoch: 4900, Loss: 1.2011,Accuracy: 0.5810\n",
      "Epoch: 5000, Loss: 1.1987,Accuracy: 0.6130\n"
     ]
    }
   ],
   "source": [
    "# Initialize model\n",
    "model = GCN(hidden_channels=32,num_features=data.num_nodes)\n",
    "\n",
    "# Use GPU\n",
    "device = torch.device(\"cuda:0\" if torch.cuda.is_available() else \"cpu\")\n",
    "model = model.to(device)\n",
    "d = d.to(device)\n",
    "\n",
    "# Initialize Optimizer\n",
    "learning_rate = 0.01\n",
    "decay = 5e-4\n",
    "optimizer = torch.optim.Adam(model.parameters(), \n",
    "                             lr=learning_rate, \n",
    "                             weight_decay=decay)\n",
    "# Define loss function (CrossEntropyLoss for Classification Problems with \n",
    "# probability distributions)\n",
    "criterion = torch.nn.CrossEntropyLoss()\n",
    "\n",
    "def train():\n",
    "      model.train()\n",
    "      optimizer.zero_grad() \n",
    "      # Use all data as input, because all nodes have node features\n",
    "      out = model(d.float(), data.edge_index)  \n",
    "      # Only use nodes with labels available for loss calculation --> mask\n",
    "      loss = criterion(out[data.train_mask], data.y[data.train_mask])  \n",
    "      loss.backward() \n",
    "      optimizer.step()\n",
    "      return loss\n",
    "\n",
    "def test():\n",
    "      model.eval()\n",
    "      out = model(d.float(), data.edge_index)\n",
    "      # Use the class with highest probability.\n",
    "      pred = out.argmax(dim=1)  \n",
    "      # Check against ground-truth labels.\n",
    "      test_correct = pred[data.test_mask] == data.y[data.test_mask]  \n",
    "      # Derive ratio of correct predictions.\n",
    "      test_acc = int(test_correct.sum()) / int(data.test_mask.sum())  \n",
    "      return test_acc\n",
    "\n",
    "losses = []\n",
    "for epoch in range(0, 5001):\n",
    "    loss = train()\n",
    "    losses.append(loss)\n",
    "    acc=test()\n",
    "    if epoch % 100 == 0:\n",
    "      print(f'Epoch: {epoch:03d}, Loss: {loss:.4f},Accuracy: {acc:.4f}')"
   ]
  },
  {
   "cell_type": "markdown",
   "metadata": {
    "id": "GIVHjRC1ZEkA"
   },
   "source": [
    "GCN with Node2Vec"
   ]
  },
  {
   "cell_type": "code",
   "execution_count": 11,
   "metadata": {
    "colab": {
     "base_uri": "https://localhost:8080/"
    },
    "id": "b7h3NI-6uSAu",
    "outputId": "b2716dea-39ed-48d9-a9c9-7fd7a9a61c8c"
   },
   "outputs": [
    {
     "name": "stderr",
     "output_type": "stream",
     "text": [
      "\n",
      "[notice] A new release of pip available: 22.3.1 -> 23.1.1\n",
      "[notice] To update, run: C:\\Users\\Apoorv\\AppData\\Local\\Microsoft\\WindowsApps\\PythonSoftwareFoundation.Python.3.9_qbz5n2kfra8p0\\python.exe -m pip install --upgrade pip\n"
     ]
    }
   ],
   "source": [
    "!pip install node2vec --quiet"
   ]
  },
  {
   "cell_type": "code",
   "execution_count": 12,
   "metadata": {
    "id": "lXUHkouX1xoa"
   },
   "outputs": [],
   "source": [
    "start=data.edge_index[0]\n",
    "end=data.edge_index[1]"
   ]
  },
  {
   "cell_type": "code",
   "execution_count": 13,
   "metadata": {
    "id": "zDS5zud1zSsi"
   },
   "outputs": [],
   "source": [
    "data.edge_index\n",
    "start=data.edge_index[0]\n",
    "end=data.edge_index[1]\n",
    "with open(\"out.txt\", \"wt\") as fout:\n",
    "  for i in range(len(start)):\n",
    "    fout.write(f'{start[i]} {end[i]} \\n')\n",
    "   "
   ]
  },
  {
   "cell_type": "code",
   "execution_count": 14,
   "metadata": {
    "colab": {
     "base_uri": "https://localhost:8080/",
     "height": 67,
     "referenced_widgets": [
      "b4d225b8ffc64a99a8393d695f3b1ffc",
      "f939df5caa4847ccba77a867683189dd",
      "9cca4e646c054dc18c0604153c411621",
      "00bad0e576d548a69a956c087e52a4a6",
      "a3a242f94d2e4b86acd74a6f5a12211f",
      "e15542931b8c48b0a83e6fcb0fd32a51",
      "f05b2aaf99ee4d2cb670d122cdd3bf03",
      "787e7c3f663d4369a035e1a255cf5995",
      "eb2e90ee96914f57b960bcdb52da6df8",
      "50e8edcc0b7b45208c055d9800248821",
      "86435cb6f5cf4bc0935ca8c7150da182"
     ]
    },
    "id": "xLVgtBWMV6IE",
    "outputId": "0255973f-f804-4689-a69f-3e641460fac2"
   },
   "outputs": [
    {
     "data": {
      "application/vnd.jupyter.widget-view+json": {
       "model_id": "232ebddb17074b90a56784500a8b0bf1",
       "version_major": 2,
       "version_minor": 0
      },
      "text/plain": [
       "Computing transition probabilities:   0%|          | 0/2708 [00:00<?, ?it/s]"
      ]
     },
     "metadata": {},
     "output_type": "display_data"
    },
    {
     "name": "stdout",
     "output_type": "stream",
     "text": [
      "Node embeddings shape: (2708, 64)\n"
     ]
    }
   ],
   "source": [
    "import networkx as nx\n",
    "from node2vec import Node2Vec\n",
    "\n",
    "# Load the Cora dataset\n",
    "# G = nx.read_edgelist('cora.cites')\n",
    "G = nx.read_edgelist('out.txt')\n",
    "G=nx.convert_node_labels_to_integers(G,first_label=0)\n",
    "# # Create a Node2Vec object with the appropriate parameters\n",
    "node2vec = Node2Vec(G, dimensions=64, walk_length=20, num_walks=50, workers=4)\n",
    "\n",
    "# Fit the Node2Vec model to the graph\n",
    "model = node2vec.fit(window=10, min_count=1, batch_words=4)\n",
    "\n",
    "# Get the node embeddings for all nodes in the graph\n",
    "node_embeddings = model.wv.vectors\n",
    "\n",
    "# Print the shape of the node embeddings\n",
    "print('Node embeddings shape:', node_embeddings.shape)"
   ]
  },
  {
   "cell_type": "code",
   "execution_count": 15,
   "metadata": {
    "id": "WskGGdiUzlVg"
   },
   "outputs": [],
   "source": [
    "node_embeddings=torch.tensor(node_embeddings)"
   ]
  },
  {
   "cell_type": "code",
   "execution_count": 16,
   "metadata": {
    "colab": {
     "base_uri": "https://localhost:8080/"
    },
    "id": "Rh5OGnmOzqW2",
    "outputId": "42b8dcdb-8379-41d0-82f1-41d66308388c",
    "scrolled": true
   },
   "outputs": [
    {
     "name": "stdout",
     "output_type": "stream",
     "text": [
      "Epoch: 000, Loss: 1.9467,Accuracy: 0.1300\n",
      "Epoch: 100, Loss: 1.5987,Accuracy: 0.2450\n",
      "Epoch: 200, Loss: 1.3942,Accuracy: 0.2790\n",
      "Epoch: 300, Loss: 1.3692,Accuracy: 0.2870\n",
      "Epoch: 400, Loss: 1.3069,Accuracy: 0.2960\n",
      "Epoch: 500, Loss: 1.2951,Accuracy: 0.3190\n",
      "Epoch: 600, Loss: 1.2728,Accuracy: 0.3120\n",
      "Epoch: 700, Loss: 1.3013,Accuracy: 0.3060\n",
      "Epoch: 800, Loss: 1.2802,Accuracy: 0.3240\n",
      "Epoch: 900, Loss: 1.3224,Accuracy: 0.3140\n",
      "Epoch: 1000, Loss: 1.2790,Accuracy: 0.3280\n",
      "Epoch: 1100, Loss: 1.2753,Accuracy: 0.3450\n",
      "Epoch: 1200, Loss: 1.2705,Accuracy: 0.3230\n",
      "Epoch: 1300, Loss: 1.2931,Accuracy: 0.3270\n",
      "Epoch: 1400, Loss: 1.2891,Accuracy: 0.3240\n",
      "Epoch: 1500, Loss: 1.2829,Accuracy: 0.3270\n",
      "Epoch: 1600, Loss: 1.2734,Accuracy: 0.3470\n",
      "Epoch: 1700, Loss: 1.2500,Accuracy: 0.3250\n",
      "Epoch: 1800, Loss: 1.2495,Accuracy: 0.3350\n",
      "Epoch: 1900, Loss: 1.2713,Accuracy: 0.3450\n",
      "Epoch: 2000, Loss: 1.2195,Accuracy: 0.3270\n",
      "Epoch: 2100, Loss: 1.2509,Accuracy: 0.3330\n",
      "Epoch: 2200, Loss: 1.2570,Accuracy: 0.3290\n",
      "Epoch: 2300, Loss: 1.2483,Accuracy: 0.3190\n",
      "Epoch: 2400, Loss: 1.2665,Accuracy: 0.3250\n",
      "Epoch: 2500, Loss: 1.2535,Accuracy: 0.3220\n",
      "Epoch: 2600, Loss: 1.2453,Accuracy: 0.3290\n",
      "Epoch: 2700, Loss: 1.2385,Accuracy: 0.3180\n",
      "Epoch: 2800, Loss: 1.2445,Accuracy: 0.3290\n",
      "Epoch: 2900, Loss: 1.2752,Accuracy: 0.3230\n",
      "Epoch: 3000, Loss: 1.2530,Accuracy: 0.3180\n",
      "Epoch: 3100, Loss: 1.2545,Accuracy: 0.3410\n",
      "Epoch: 3200, Loss: 1.2550,Accuracy: 0.3450\n",
      "Epoch: 3300, Loss: 1.2838,Accuracy: 0.3390\n",
      "Epoch: 3400, Loss: 1.2345,Accuracy: 0.3290\n",
      "Epoch: 3500, Loss: 1.2498,Accuracy: 0.3180\n",
      "Epoch: 3600, Loss: 1.2434,Accuracy: 0.3270\n",
      "Epoch: 3700, Loss: 1.2351,Accuracy: 0.3220\n",
      "Epoch: 3800, Loss: 1.2410,Accuracy: 0.3370\n",
      "Epoch: 3900, Loss: 1.2564,Accuracy: 0.3260\n",
      "Epoch: 4000, Loss: 1.2526,Accuracy: 0.3260\n",
      "Epoch: 4100, Loss: 1.2374,Accuracy: 0.3280\n",
      "Epoch: 4200, Loss: 1.2625,Accuracy: 0.3280\n",
      "Epoch: 4300, Loss: 1.2445,Accuracy: 0.3130\n",
      "Epoch: 4400, Loss: 1.2686,Accuracy: 0.3310\n",
      "Epoch: 4500, Loss: 1.2572,Accuracy: 0.3180\n",
      "Epoch: 4600, Loss: 1.2531,Accuracy: 0.3230\n",
      "Epoch: 4700, Loss: 1.2580,Accuracy: 0.3070\n",
      "Epoch: 4800, Loss: 1.2174,Accuracy: 0.3240\n",
      "Epoch: 4900, Loss: 1.2494,Accuracy: 0.3090\n",
      "Epoch: 5000, Loss: 1.2668,Accuracy: 0.3210\n"
     ]
    }
   ],
   "source": [
    "# Initialize model\n",
    "model = GCN(hidden_channels=32,num_features=64)\n",
    "\n",
    "# Use GPU\n",
    "device = torch.device(\"cuda:0\" if torch.cuda.is_available() else \"cpu\")\n",
    "model = model.to(device)\n",
    "node_embeddings = node_embeddings.to(device)\n",
    "\n",
    "# Initialize Optimizer\n",
    "learning_rate = 0.01\n",
    "decay = 5e-4\n",
    "optimizer = torch.optim.Adam(model.parameters(), \n",
    "                             lr=learning_rate, \n",
    "                             weight_decay=decay)\n",
    "# Define loss function (CrossEntropyLoss for Classification Problems with \n",
    "# probability distributions)\n",
    "criterion = torch.nn.CrossEntropyLoss()\n",
    "\n",
    "def train():\n",
    "      model.train()\n",
    "      optimizer.zero_grad() \n",
    "      # Use all data as input, because all nodes have node features\n",
    "      out = model(node_embeddings, data.edge_index)  \n",
    "      # Only use nodes with labels available for loss calculation --> mask\n",
    "      loss = criterion(out[data.train_mask], data.y[data.train_mask])  \n",
    "      loss.backward() \n",
    "      optimizer.step()\n",
    "      return loss\n",
    "\n",
    "def test():\n",
    "      model.eval()\n",
    "      out = model(node_embeddings, data.edge_index)\n",
    "      # Use the class with highest probability.\n",
    "      pred = out.argmax(dim=1)  \n",
    "      # Check against ground-truth labels.\n",
    "      test_correct = pred[data.test_mask] == data.y[data.test_mask]  \n",
    "      # Derive ratio of correct predictions.\n",
    "      test_acc = int(test_correct.sum()) / int(data.test_mask.sum())  \n",
    "      return test_acc\n",
    "\n",
    "losses = []\n",
    "for epoch in range(0, 5001):\n",
    "    loss = train()\n",
    "    losses.append(loss)\n",
    "    acc=test()\n",
    "    if epoch % 100 == 0:\n",
    "      print(f'Epoch: {epoch:03d}, Loss: {loss:.4f},Accuracy: {acc:.4f}')"
   ]
  }
 ],
 "metadata": {
  "accelerator": "GPU",
  "colab": {
   "provenance": []
  },
  "gpuClass": "standard",
  "kernelspec": {
   "display_name": "Python 3 (ipykernel)",
   "language": "python",
   "name": "python3"
  },
  "language_info": {
   "codemirror_mode": {
    "name": "ipython",
    "version": 3
   },
   "file_extension": ".py",
   "mimetype": "text/x-python",
   "name": "python",
   "nbconvert_exporter": "python",
   "pygments_lexer": "ipython3",
   "version": "3.9.13"
  },
  "widgets": {
   "application/vnd.jupyter.widget-state+json": {
    "00bad0e576d548a69a956c087e52a4a6": {
     "model_module": "@jupyter-widgets/controls",
     "model_module_version": "1.5.0",
     "model_name": "HTMLModel",
     "state": {
      "_dom_classes": [],
      "_model_module": "@jupyter-widgets/controls",
      "_model_module_version": "1.5.0",
      "_model_name": "HTMLModel",
      "_view_count": null,
      "_view_module": "@jupyter-widgets/controls",
      "_view_module_version": "1.5.0",
      "_view_name": "HTMLView",
      "description": "",
      "description_tooltip": null,
      "layout": "IPY_MODEL_50e8edcc0b7b45208c055d9800248821",
      "placeholder": "​",
      "style": "IPY_MODEL_86435cb6f5cf4bc0935ca8c7150da182",
      "value": " 2708/2708 [00:01&lt;00:00, 2645.21it/s]"
     }
    },
    "50e8edcc0b7b45208c055d9800248821": {
     "model_module": "@jupyter-widgets/base",
     "model_module_version": "1.2.0",
     "model_name": "LayoutModel",
     "state": {
      "_model_module": "@jupyter-widgets/base",
      "_model_module_version": "1.2.0",
      "_model_name": "LayoutModel",
      "_view_count": null,
      "_view_module": "@jupyter-widgets/base",
      "_view_module_version": "1.2.0",
      "_view_name": "LayoutView",
      "align_content": null,
      "align_items": null,
      "align_self": null,
      "border": null,
      "bottom": null,
      "display": null,
      "flex": null,
      "flex_flow": null,
      "grid_area": null,
      "grid_auto_columns": null,
      "grid_auto_flow": null,
      "grid_auto_rows": null,
      "grid_column": null,
      "grid_gap": null,
      "grid_row": null,
      "grid_template_areas": null,
      "grid_template_columns": null,
      "grid_template_rows": null,
      "height": null,
      "justify_content": null,
      "justify_items": null,
      "left": null,
      "margin": null,
      "max_height": null,
      "max_width": null,
      "min_height": null,
      "min_width": null,
      "object_fit": null,
      "object_position": null,
      "order": null,
      "overflow": null,
      "overflow_x": null,
      "overflow_y": null,
      "padding": null,
      "right": null,
      "top": null,
      "visibility": null,
      "width": null
     }
    },
    "787e7c3f663d4369a035e1a255cf5995": {
     "model_module": "@jupyter-widgets/base",
     "model_module_version": "1.2.0",
     "model_name": "LayoutModel",
     "state": {
      "_model_module": "@jupyter-widgets/base",
      "_model_module_version": "1.2.0",
      "_model_name": "LayoutModel",
      "_view_count": null,
      "_view_module": "@jupyter-widgets/base",
      "_view_module_version": "1.2.0",
      "_view_name": "LayoutView",
      "align_content": null,
      "align_items": null,
      "align_self": null,
      "border": null,
      "bottom": null,
      "display": null,
      "flex": null,
      "flex_flow": null,
      "grid_area": null,
      "grid_auto_columns": null,
      "grid_auto_flow": null,
      "grid_auto_rows": null,
      "grid_column": null,
      "grid_gap": null,
      "grid_row": null,
      "grid_template_areas": null,
      "grid_template_columns": null,
      "grid_template_rows": null,
      "height": null,
      "justify_content": null,
      "justify_items": null,
      "left": null,
      "margin": null,
      "max_height": null,
      "max_width": null,
      "min_height": null,
      "min_width": null,
      "object_fit": null,
      "object_position": null,
      "order": null,
      "overflow": null,
      "overflow_x": null,
      "overflow_y": null,
      "padding": null,
      "right": null,
      "top": null,
      "visibility": null,
      "width": null
     }
    },
    "86435cb6f5cf4bc0935ca8c7150da182": {
     "model_module": "@jupyter-widgets/controls",
     "model_module_version": "1.5.0",
     "model_name": "DescriptionStyleModel",
     "state": {
      "_model_module": "@jupyter-widgets/controls",
      "_model_module_version": "1.5.0",
      "_model_name": "DescriptionStyleModel",
      "_view_count": null,
      "_view_module": "@jupyter-widgets/base",
      "_view_module_version": "1.2.0",
      "_view_name": "StyleView",
      "description_width": ""
     }
    },
    "9cca4e646c054dc18c0604153c411621": {
     "model_module": "@jupyter-widgets/controls",
     "model_module_version": "1.5.0",
     "model_name": "FloatProgressModel",
     "state": {
      "_dom_classes": [],
      "_model_module": "@jupyter-widgets/controls",
      "_model_module_version": "1.5.0",
      "_model_name": "FloatProgressModel",
      "_view_count": null,
      "_view_module": "@jupyter-widgets/controls",
      "_view_module_version": "1.5.0",
      "_view_name": "ProgressView",
      "bar_style": "success",
      "description": "",
      "description_tooltip": null,
      "layout": "IPY_MODEL_787e7c3f663d4369a035e1a255cf5995",
      "max": 2708,
      "min": 0,
      "orientation": "horizontal",
      "style": "IPY_MODEL_eb2e90ee96914f57b960bcdb52da6df8",
      "value": 2708
     }
    },
    "a3a242f94d2e4b86acd74a6f5a12211f": {
     "model_module": "@jupyter-widgets/base",
     "model_module_version": "1.2.0",
     "model_name": "LayoutModel",
     "state": {
      "_model_module": "@jupyter-widgets/base",
      "_model_module_version": "1.2.0",
      "_model_name": "LayoutModel",
      "_view_count": null,
      "_view_module": "@jupyter-widgets/base",
      "_view_module_version": "1.2.0",
      "_view_name": "LayoutView",
      "align_content": null,
      "align_items": null,
      "align_self": null,
      "border": null,
      "bottom": null,
      "display": null,
      "flex": null,
      "flex_flow": null,
      "grid_area": null,
      "grid_auto_columns": null,
      "grid_auto_flow": null,
      "grid_auto_rows": null,
      "grid_column": null,
      "grid_gap": null,
      "grid_row": null,
      "grid_template_areas": null,
      "grid_template_columns": null,
      "grid_template_rows": null,
      "height": null,
      "justify_content": null,
      "justify_items": null,
      "left": null,
      "margin": null,
      "max_height": null,
      "max_width": null,
      "min_height": null,
      "min_width": null,
      "object_fit": null,
      "object_position": null,
      "order": null,
      "overflow": null,
      "overflow_x": null,
      "overflow_y": null,
      "padding": null,
      "right": null,
      "top": null,
      "visibility": null,
      "width": null
     }
    },
    "b4d225b8ffc64a99a8393d695f3b1ffc": {
     "model_module": "@jupyter-widgets/controls",
     "model_module_version": "1.5.0",
     "model_name": "HBoxModel",
     "state": {
      "_dom_classes": [],
      "_model_module": "@jupyter-widgets/controls",
      "_model_module_version": "1.5.0",
      "_model_name": "HBoxModel",
      "_view_count": null,
      "_view_module": "@jupyter-widgets/controls",
      "_view_module_version": "1.5.0",
      "_view_name": "HBoxView",
      "box_style": "",
      "children": [
       "IPY_MODEL_f939df5caa4847ccba77a867683189dd",
       "IPY_MODEL_9cca4e646c054dc18c0604153c411621",
       "IPY_MODEL_00bad0e576d548a69a956c087e52a4a6"
      ],
      "layout": "IPY_MODEL_a3a242f94d2e4b86acd74a6f5a12211f"
     }
    },
    "e15542931b8c48b0a83e6fcb0fd32a51": {
     "model_module": "@jupyter-widgets/base",
     "model_module_version": "1.2.0",
     "model_name": "LayoutModel",
     "state": {
      "_model_module": "@jupyter-widgets/base",
      "_model_module_version": "1.2.0",
      "_model_name": "LayoutModel",
      "_view_count": null,
      "_view_module": "@jupyter-widgets/base",
      "_view_module_version": "1.2.0",
      "_view_name": "LayoutView",
      "align_content": null,
      "align_items": null,
      "align_self": null,
      "border": null,
      "bottom": null,
      "display": null,
      "flex": null,
      "flex_flow": null,
      "grid_area": null,
      "grid_auto_columns": null,
      "grid_auto_flow": null,
      "grid_auto_rows": null,
      "grid_column": null,
      "grid_gap": null,
      "grid_row": null,
      "grid_template_areas": null,
      "grid_template_columns": null,
      "grid_template_rows": null,
      "height": null,
      "justify_content": null,
      "justify_items": null,
      "left": null,
      "margin": null,
      "max_height": null,
      "max_width": null,
      "min_height": null,
      "min_width": null,
      "object_fit": null,
      "object_position": null,
      "order": null,
      "overflow": null,
      "overflow_x": null,
      "overflow_y": null,
      "padding": null,
      "right": null,
      "top": null,
      "visibility": null,
      "width": null
     }
    },
    "eb2e90ee96914f57b960bcdb52da6df8": {
     "model_module": "@jupyter-widgets/controls",
     "model_module_version": "1.5.0",
     "model_name": "ProgressStyleModel",
     "state": {
      "_model_module": "@jupyter-widgets/controls",
      "_model_module_version": "1.5.0",
      "_model_name": "ProgressStyleModel",
      "_view_count": null,
      "_view_module": "@jupyter-widgets/base",
      "_view_module_version": "1.2.0",
      "_view_name": "StyleView",
      "bar_color": null,
      "description_width": ""
     }
    },
    "f05b2aaf99ee4d2cb670d122cdd3bf03": {
     "model_module": "@jupyter-widgets/controls",
     "model_module_version": "1.5.0",
     "model_name": "DescriptionStyleModel",
     "state": {
      "_model_module": "@jupyter-widgets/controls",
      "_model_module_version": "1.5.0",
      "_model_name": "DescriptionStyleModel",
      "_view_count": null,
      "_view_module": "@jupyter-widgets/base",
      "_view_module_version": "1.2.0",
      "_view_name": "StyleView",
      "description_width": ""
     }
    },
    "f939df5caa4847ccba77a867683189dd": {
     "model_module": "@jupyter-widgets/controls",
     "model_module_version": "1.5.0",
     "model_name": "HTMLModel",
     "state": {
      "_dom_classes": [],
      "_model_module": "@jupyter-widgets/controls",
      "_model_module_version": "1.5.0",
      "_model_name": "HTMLModel",
      "_view_count": null,
      "_view_module": "@jupyter-widgets/controls",
      "_view_module_version": "1.5.0",
      "_view_name": "HTMLView",
      "description": "",
      "description_tooltip": null,
      "layout": "IPY_MODEL_e15542931b8c48b0a83e6fcb0fd32a51",
      "placeholder": "​",
      "style": "IPY_MODEL_f05b2aaf99ee4d2cb670d122cdd3bf03",
      "value": "Computing transition probabilities: 100%"
     }
    }
   }
  }
 },
 "nbformat": 4,
 "nbformat_minor": 1
}
